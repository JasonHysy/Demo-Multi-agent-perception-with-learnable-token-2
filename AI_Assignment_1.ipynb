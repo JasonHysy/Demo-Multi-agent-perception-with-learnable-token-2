{
  "nbformat": 4,
  "nbformat_minor": 0,
  "metadata": {
    "colab": {
      "provenance": [],
      "authorship_tag": "ABX9TyOR09g9bBnxdoh2yiy4rYog",
      "include_colab_link": true
    },
    "kernelspec": {
      "name": "python3",
      "display_name": "Python 3"
    },
    "language_info": {
      "name": "python"
    }
  },
  "cells": [
    {
      "cell_type": "markdown",
      "metadata": {
        "id": "view-in-github",
        "colab_type": "text"
      },
      "source": [
        "<a href=\"https://colab.research.google.com/github/JasonHysy/Demo-Multi-agent-perception-with-learnable-token-2/blob/main/AI_Assignment_1.ipynb\" target=\"_parent\"><img src=\"https://colab.research.google.com/assets/colab-badge.svg\" alt=\"Open In Colab\"/></a>"
      ]
    },
    {
      "cell_type": "markdown",
      "source": [
        "## **Information Theory Basics**"
      ],
      "metadata": {
        "id": "p_-zeG9k3hSX"
      }
    },
    {
      "cell_type": "markdown",
      "source": [
        "# Information Theory Basics\n",
        "\n",
        "Information theory was introduced by Claude Shannon in 1948. It is a mathematical theory that deals with the transmission, processing, utilization, and extraction of information. It has given rise to a wide range of applications, including data compression, cryptography, error correction and fueled other industries such as AI, cellular communications and others.\n",
        "\n",
        "\n",
        "\n",
        "The joint distribution for \\(X\\) and \\(Y\\) is given in the following table:\n",
        "\n",
        "| Y \\ X | 1    | 2    | 3    | 4    |\n",
        "|-------|------|------|------|------|\n",
        "| 1     | 1/8  | 1/16 | 1/32 | 1/32 |\n",
        "| 2     | 1/16 | 1/8  | 1/32 | 1/32 |\n",
        "| 3     | 1/16 | 1/16 | 1/16 | 1/16 |\n",
        "| 4     | 1/4  | 0    | 0    | 0    |\n",
        "\n"
      ],
      "metadata": {
        "id": "6zPln7gs4w4O"
      }
    },
    {
      "cell_type": "markdown",
      "source": [
        "#### a.  Is H(X|Y) = H(Y|X) ?"
      ],
      "metadata": {
        "id": "kZboM2FX6OyH"
      }
    },
    {
      "cell_type": "markdown",
      "source": [
        "H(Y|X) = ∑p(X = i) * H (Y/X = i) ="
      ],
      "metadata": {
        "id": "G8OJ4InT8cj9"
      }
    },
    {
      "cell_type": "markdown",
      "source": [
        "#### b. Is H(x) - H(x|y) = H(y) - H(y|x)?"
      ],
      "metadata": {
        "id": "rqzC0jKO6WwF"
      }
    },
    {
      "cell_type": "markdown",
      "source": [
        "#### c. Calculate the mutual information I(x,y)\n"
      ],
      "metadata": {
        "id": "3E71NeU06XEW"
      }
    },
    {
      "cell_type": "markdown",
      "source": [
        "## Maximum Likelihood Parameter Estimation"
      ],
      "metadata": {
        "id": "WGw3B7457hBV"
      }
    },
    {
      "cell_type": "markdown",
      "source": [
        "####Task 1\n",
        "Simulate the interarrival times using an exponential distribution with the rate parameter 𝜆=100"
      ],
      "metadata": {
        "id": "7Bfnv2-17lwK"
      }
    },
    {
      "cell_type": "markdown",
      "source": [
        "####Task 2\n",
        "Use the stochastic gradient descent (SGD) algorithm to minimize the negative log-likelihood of the exponential distribution. Output: (a) the estimated parameter after a number of iterations of your choice and (b) plot the value of objective function over the iteration index."
      ],
      "metadata": {
        "id": "a7O4qWBl7osf"
      }
    },
    {
      "cell_type": "markdown",
      "source": [
        "####Linear Regression and SGD\n",
        "In class we covered the baseline stochastic gradient descent. Using the linear regression dataset from the class website, develop from scratch the baseline SGD algorithm that can estimate the L2-norm regularized model.\n",
        "\n",
        "Clearly state the hyper-parameters you used and present the loss vs epoch plot that demonstrates the convergence of the algorithm and the final values of the parameters\n",
        " of the model.\n",
        "\n",
        "You can generate the dataset with any number of examples\n",
        " you need to demonstrate that the algorithm works."
      ],
      "metadata": {
        "id": "NT71Tk067sPY"
      }
    }
  ]
}